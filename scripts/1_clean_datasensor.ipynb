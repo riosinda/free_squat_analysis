{
 "cells": [
  {
   "cell_type": "code",
   "execution_count": 1,
   "metadata": {},
   "outputs": [],
   "source": [
    "import os\n",
    "import pandas as pd"
   ]
  },
  {
   "cell_type": "code",
   "execution_count": 2,
   "metadata": {},
   "outputs": [],
   "source": [
    "original_folder_path = \"C:/Users/josei/OneDrive/Documentos/CIIBI proyectos/Analisys Free Squat/database/recordings/\" #path to the folder with the original recordings\n",
    "destination_folder_path = \"C:/Users/josei/OneDrive/Documentos/CIIBI proyectos/Analisys Free Squat/database/recordings_processed/\" #path to the folder where the processed recordings will be saved"
   ]
  },
  {
   "cell_type": "code",
   "execution_count": 3,
   "metadata": {},
   "outputs": [],
   "source": [
    "#read all folders in the original folder\n",
    "folders = os.listdir(original_folder_path)"
   ]
  },
  {
   "cell_type": "code",
   "execution_count": 4,
   "metadata": {},
   "outputs": [
    {
     "name": "stdout",
     "output_type": "stream",
     "text": [
      "Folder 20240508_124523_alfredo_saucedo processed\n",
      "Folder 20240508_130305_raul processed\n",
      "Folder 20240509_125646_karinatrejo processed\n"
     ]
    }
   ],
   "source": [
    "for folder in folders: #for each folder in the original folder\n",
    "\n",
    "    csv_files = os.listdir(original_folder_path + folder) #read all files in the folder\n",
    "    for csv_file in csv_files: #for each file in the folder\n",
    "        \n",
    "        df = pd.read_csv(original_folder_path + folder + \"/\" + csv_file, skiprows=7) #read the file\n",
    "        \n",
    "        destination_folder = destination_folder_path + folder #create the destination folder\n",
    "        os.makedirs(destination_folder, exist_ok=True) #create the destination folder if it doesn't exist\n",
    "        \n",
    "        df.to_csv(os.path.join(destination_folder, csv_file), index=False) #save the file in the destination folder\n",
    "    print(\"Folder \" + folder + \" processed\") #print the folder that was processed"
   ]
  }
 ],
 "metadata": {
  "kernelspec": {
   "display_name": "Python 3",
   "language": "python",
   "name": "python3"
  },
  "language_info": {
   "codemirror_mode": {
    "name": "ipython",
    "version": 3
   },
   "file_extension": ".py",
   "mimetype": "text/x-python",
   "name": "python",
   "nbconvert_exporter": "python",
   "pygments_lexer": "ipython3",
   "version": "3.11.5"
  }
 },
 "nbformat": 4,
 "nbformat_minor": 2
}
