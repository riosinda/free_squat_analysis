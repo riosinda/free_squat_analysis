{
 "cells": [
  {
   "cell_type": "code",
   "execution_count": 1,
   "metadata": {},
   "outputs": [],
   "source": [
    "import os\n",
    "import pandas as pd"
   ]
  },
  {
   "cell_type": "code",
   "execution_count": 2,
   "metadata": {},
   "outputs": [],
   "source": [
    "original_folder_path = \"C:/Users/josei/OneDrive/Documentos/CIIBI proyectos/Analisys Free Squat/database/recordings/\"\n",
    "destination_folder_path = \"C:/Users/josei/OneDrive/Documentos/CIIBI proyectos/Analisys Free Squat/database/recordings_processed/\""
   ]
  },
  {
   "cell_type": "code",
   "execution_count": 3,
   "metadata": {},
   "outputs": [],
   "source": [
    "#read all folders in the original folder\n",
    "folders = os.listdir(original_folder_path)"
   ]
  },
  {
   "cell_type": "code",
   "execution_count": 4,
   "metadata": {},
   "outputs": [
    {
     "name": "stdout",
     "output_type": "stream",
     "text": [
      "Folder 20240508_124523_alfredo_saucedo processed\n",
      "Folder 20240508_130305_raul processed\n",
      "Folder 20240509_125646_karinatrejo processed\n"
     ]
    }
   ],
   "source": [
    "for folder in folders:\n",
    "    # Leer todos los archivos en la carpeta\n",
    "    csv_files = os.listdir(original_folder_path + folder)\n",
    "    for csv_file in csv_files:\n",
    "        # Leer el archivo CSV omitiendo las primeras 7 líneas\n",
    "        df = pd.read_csv(original_folder_path + folder + \"/\" + csv_file, skiprows=7)\n",
    "        \n",
    "        # Crear la carpeta de destino si no existe\n",
    "        destination_folder = destination_folder_path + folder\n",
    "        os.makedirs(destination_folder, exist_ok=True)\n",
    "        \n",
    "        # Guardar el DataFrame como un archivo CSV en la carpeta de destino\n",
    "        df.to_csv(os.path.join(destination_folder, csv_file), index=False)\n",
    "    print(\"Folder \" + folder + \" processed\")"
   ]
  }
 ],
 "metadata": {
  "kernelspec": {
   "display_name": "Python 3",
   "language": "python",
   "name": "python3"
  },
  "language_info": {
   "codemirror_mode": {
    "name": "ipython",
    "version": 3
   },
   "file_extension": ".py",
   "mimetype": "text/x-python",
   "name": "python",
   "nbconvert_exporter": "python",
   "pygments_lexer": "ipython3",
   "version": "3.11.5"
  }
 },
 "nbformat": 4,
 "nbformat_minor": 2
}
